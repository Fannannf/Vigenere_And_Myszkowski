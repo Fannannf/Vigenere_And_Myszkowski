{
  "nbformat": 4,
  "nbformat_minor": 0,
  "metadata": {
    "colab": {
      "provenance": []
    },
    "kernelspec": {
      "name": "python3",
      "display_name": "Python 3"
    },
    "language_info": {
      "name": "python"
    }
  },
  "cells": [
    {
      "cell_type": "code",
      "source": [
        "import string\n",
        "alphabet = \"abcdefghijklmnopqrstuvwxyz\"\n",
        "\n",
        "letter_to_index = dict(zip(alphabet, range(len(alphabet))))\n",
        "index_to_letter = dict(zip(range(len(alphabet)),alphabet))"
      ],
      "metadata": {
        "id": "ULT-dstMBDDn"
      },
      "execution_count": 28,
      "outputs": []
    },
    {
      "cell_type": "code",
      "source": [
        "letter_to_index"
      ],
      "metadata": {
        "id": "C7hIDqXFJtdT"
      },
      "execution_count": null,
      "outputs": []
    },
    {
      "cell_type": "code",
      "source": [
        "index_to_letter"
      ],
      "metadata": {
        "id": "G31xtAw-JuBJ"
      },
      "execution_count": null,
      "outputs": []
    },
    {
      "cell_type": "code",
      "source": [
        "plain_text = input(\"Masukan Plaintext : \")\n",
        "plain_text"
      ],
      "metadata": {
        "id": "XT9SV_9zBJuM",
        "colab": {
          "base_uri": "https://localhost:8080/",
          "height": 53
        },
        "outputId": "4e5ad099-1118-4f0b-83f7-6e16b740896c"
      },
      "execution_count": 31,
      "outputs": [
        {
          "name": "stdout",
          "output_type": "stream",
          "text": [
            "Masukan Plaintext : Broo All\n"
          ]
        },
        {
          "output_type": "execute_result",
          "data": {
            "text/plain": [
              "'Broo All'"
            ],
            "application/vnd.google.colaboratory.intrinsic+json": {
              "type": "string"
            }
          },
          "metadata": {},
          "execution_count": 31
        }
      ]
    },
    {
      "cell_type": "code",
      "source": [
        "plain_text = plain_text.replace(\" \", \"\")\n",
        "plain_text = plain_text.lower()\n",
        "plain_text"
      ],
      "metadata": {
        "colab": {
          "base_uri": "https://localhost:8080/",
          "height": 35
        },
        "id": "m8jXrh_AIzoY",
        "outputId": "2bf923f2-777c-4829-ad77-8d4b416b3a57"
      },
      "execution_count": 32,
      "outputs": [
        {
          "output_type": "execute_result",
          "data": {
            "text/plain": [
              "'brooall'"
            ],
            "application/vnd.google.colaboratory.intrinsic+json": {
              "type": "string"
            }
          },
          "metadata": {},
          "execution_count": 32
        }
      ]
    },
    {
      "cell_type": "code",
      "source": [
        "key = input(\"Masukan Kunci\")\n",
        "key_length = len(key)\n",
        "key"
      ],
      "metadata": {
        "colab": {
          "base_uri": "https://localhost:8080/",
          "height": 53
        },
        "id": "w4tIOCYLI1ei",
        "outputId": "50635c98-230e-48ec-cd3a-e7b9d74a73cf"
      },
      "execution_count": 33,
      "outputs": [
        {
          "name": "stdout",
          "output_type": "stream",
          "text": [
            "Masukan Kunciakak\n"
          ]
        },
        {
          "output_type": "execute_result",
          "data": {
            "text/plain": [
              "'akak'"
            ],
            "application/vnd.google.colaboratory.intrinsic+json": {
              "type": "string"
            }
          },
          "metadata": {},
          "execution_count": 33
        }
      ]
    },
    {
      "cell_type": "code",
      "source": [
        "generated_key = \"\"\n",
        "for i in range(len(plain_text)):\n",
        "        generated_key += key[i % key_length]\n",
        "generated_key"
      ],
      "metadata": {
        "id": "W2c373N4B3P3",
        "colab": {
          "base_uri": "https://localhost:8080/",
          "height": 35
        },
        "outputId": "2c67f35d-45c2-4746-850b-dacf1d554779"
      },
      "execution_count": 34,
      "outputs": [
        {
          "output_type": "execute_result",
          "data": {
            "text/plain": [
              "'akakaka'"
            ],
            "application/vnd.google.colaboratory.intrinsic+json": {
              "type": "string"
            }
          },
          "metadata": {},
          "execution_count": 34
        }
      ]
    },
    {
      "cell_type": "code",
      "source": [
        "pt = [letter_to_index[i] for i in plain_text]\n",
        "ky = [letter_to_index[i] for i in generated_key]\n",
        "\n",
        "print('pt :', pt)\n",
        "print('ky :', ky)"
      ],
      "metadata": {
        "colab": {
          "base_uri": "https://localhost:8080/"
        },
        "id": "6dI2bhinJCPj",
        "outputId": "f83cc761-57b2-4997-9220-aa22abf7caa1"
      },
      "execution_count": 35,
      "outputs": [
        {
          "output_type": "stream",
          "name": "stdout",
          "text": [
            "pt : [1, 17, 14, 14, 0, 11, 11]\n",
            "ky : [0, 10, 0, 10, 0, 10, 0]\n"
          ]
        }
      ]
    },
    {
      "cell_type": "code",
      "source": [
        "encrypt_txt = []\n",
        "for i in range(len(plain_text)):\n",
        "  encrypt = (pt[i]+ky[i]) % 26\n",
        "  encrypt_txt.append(encrypt)\n",
        "\n",
        "encrypt_txt"
      ],
      "metadata": {
        "id": "_ChlPYIzB-o7",
        "colab": {
          "base_uri": "https://localhost:8080/"
        },
        "outputId": "caca8a9b-f13d-4896-90e3-ab2ac7959321"
      },
      "execution_count": 36,
      "outputs": [
        {
          "output_type": "execute_result",
          "data": {
            "text/plain": [
              "[1, 1, 14, 24, 0, 21, 11]"
            ]
          },
          "metadata": {},
          "execution_count": 36
        }
      ]
    },
    {
      "cell_type": "code",
      "source": [
        "encrypt_txt_convert = [index_to_letter[i] for i in encrypt_txt]\n",
        "encrypt_txt_convert"
      ],
      "metadata": {
        "colab": {
          "base_uri": "https://localhost:8080/"
        },
        "id": "0X5kW6CDJO_o",
        "outputId": "04fc05bf-f797-4d46-af98-a9c229853fb2"
      },
      "execution_count": 37,
      "outputs": [
        {
          "output_type": "execute_result",
          "data": {
            "text/plain": [
              "['b', 'b', 'o', 'y', 'a', 'v', 'l']"
            ]
          },
          "metadata": {},
          "execution_count": 37
        }
      ]
    },
    {
      "cell_type": "code",
      "source": [
        "decrypt_index = []\n",
        "for i in range(len( encrypt_txt)):\n",
        "  decrypt = ( encrypt_txt[i]-ky[i]) % 26\n",
        "  decrypt_index.append(decrypt)\n",
        "\n",
        "decrypt_index"
      ],
      "metadata": {
        "id": "TA1PExGGCDx4",
        "colab": {
          "base_uri": "https://localhost:8080/"
        },
        "outputId": "b298fd2a-e6b5-4b52-ea8c-ebb884151c75"
      },
      "execution_count": 38,
      "outputs": [
        {
          "output_type": "execute_result",
          "data": {
            "text/plain": [
              "[1, 17, 14, 14, 0, 11, 11]"
            ]
          },
          "metadata": {},
          "execution_count": 38
        }
      ]
    },
    {
      "cell_type": "code",
      "source": [
        "decrypt_txt_konversi = [index_to_letter[i] for i in decrypt_index]\n",
        "decrypt_txt_konversi"
      ],
      "metadata": {
        "colab": {
          "base_uri": "https://localhost:8080/"
        },
        "id": "Lf_vbTUwJe6K",
        "outputId": "45670c91-18c0-4de8-9fd0-b75a57387de6"
      },
      "execution_count": 39,
      "outputs": [
        {
          "output_type": "execute_result",
          "data": {
            "text/plain": [
              "['b', 'r', 'o', 'o', 'a', 'l', 'l']"
            ]
          },
          "metadata": {},
          "execution_count": 39
        }
      ]
    },
    {
      "cell_type": "code",
      "source": [
        "hasil = ''.join(decrypt_txt_konversi)\n",
        "' '.join(hasil.split())"
      ],
      "metadata": {
        "colab": {
          "base_uri": "https://localhost:8080/",
          "height": 35
        },
        "id": "HwL6rEWeJgXo",
        "outputId": "18af7aa8-97ec-4a6c-c862-3f783b4fd688"
      },
      "execution_count": 40,
      "outputs": [
        {
          "output_type": "execute_result",
          "data": {
            "text/plain": [
              "'brooall'"
            ],
            "application/vnd.google.colaboratory.intrinsic+json": {
              "type": "string"
            }
          },
          "metadata": {},
          "execution_count": 40
        }
      ]
    }
  ]
}