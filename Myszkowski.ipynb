{
  "cells": [
    {
      "cell_type": "markdown",
      "metadata": {
        "id": "3EtTDTfCXFyC"
      },
      "source": [
        "**ALGORITMA MYSZKOWSKI**"
      ]
    },
    {
      "cell_type": "code",
      "execution_count": 1,
      "metadata": {
        "colab": {
          "base_uri": "https://localhost:8080/",
          "height": 53
        },
        "id": "YPY6SKZ2XFyE",
        "outputId": "b8a633c5-c15f-4277-ab3e-2c87eb38e14e"
      },
      "outputs": [
        {
          "name": "stdout",
          "output_type": "stream",
          "text": [
            "Masukkan PlainText : This Plaintext\n"
          ]
        },
        {
          "output_type": "execute_result",
          "data": {
            "text/plain": [
              "'This Plaintext'"
            ],
            "application/vnd.google.colaboratory.intrinsic+json": {
              "type": "string"
            }
          },
          "metadata": {},
          "execution_count": 1
        }
      ],
      "source": [
        "plainText = input(\"Masukkan PlainText : \") #untuk memberikan inputan plainText\n",
        "plainText #untuk menampilkan output dari plainText yang telah diinput"
      ]
    },
    {
      "cell_type": "markdown",
      "source": [
        "Pada kode diatas berfungsi untuk memberikan inputan agar dapat memasukkan plainText yang ingin diinputkan. Lalu kita panggil plainText untuk dapat menampilkan output plainText yang telah diinputkan tadi."
      ],
      "metadata": {
        "id": "5kZ7GPlvXfxt"
      }
    },
    {
      "cell_type": "code",
      "execution_count": 4,
      "metadata": {
        "colab": {
          "base_uri": "https://localhost:8080/",
          "height": 53
        },
        "id": "bkbHNmL2XFyF",
        "outputId": "0c546d8b-dead-4078-ea35-1233b3420386"
      },
      "outputs": [
        {
          "name": "stdout",
          "output_type": "stream",
          "text": [
            "Masukkan key : sony\n"
          ]
        },
        {
          "output_type": "execute_result",
          "data": {
            "text/plain": [
              "'sony'"
            ],
            "application/vnd.google.colaboratory.intrinsic+json": {
              "type": "string"
            }
          },
          "metadata": {},
          "execution_count": 4
        }
      ],
      "source": [
        "key = input(\"Masukkan key : \") #untuk memberikan inputan kata key\n",
        "key #untuk menampilkan output dari kata key yang telah diinput"
      ]
    },
    {
      "cell_type": "markdown",
      "source": [
        "Pada kode diatas berfungsi untuk memberikan inputan agar dapat memasukkan kata kunci yang ingin diinputkan. Lalu kita panggil kunci untuk dapat menampilkan output kata kunci yang telah diinputkan tadi."
      ],
      "metadata": {
        "id": "vDPSlyWXYC9o"
      }
    },
    {
      "cell_type": "code",
      "execution_count": 5,
      "metadata": {
        "id": "eNH0Er48XFyG",
        "colab": {
          "base_uri": "https://localhost:8080/"
        },
        "outputId": "9423f3b8-8887-4661-9179-32f3c0d53f36"
      },
      "outputs": [
        {
          "output_type": "execute_result",
          "data": {
            "text/plain": [
              "3.5"
            ]
          },
          "metadata": {},
          "execution_count": 5
        }
      ],
      "source": [
        "# VALIDASI INPUT USER\n",
        "if not plainText:\n",
        "    print(\"PlainText Kosong !\") #jika tidak ada plainText, maka akan muncul output PlainText Kosong !\n",
        "elif not key:\n",
        "    print(\"Kunci Kosong !\") #jika tidak ada kunci, maka akan muncul output PlainText Kosong !\n",
        "else:\n",
        "    plaintext_size = len(plainText) #jika plaintext_size = panjang dari plainText yang telah di inputkan\n",
        "    kunci_size = len(key) #kunci_size = panjang dsri kunci yang telah di inputkan\n",
        "    size = plaintext_size / kunci_size #maka size = plaintext_size / kunci_size untuk menampilkan panjang dari pembagian antara plainText dengan kunci\n",
        "    size #untuk menampilkan output dari size\n",
        "size"
      ]
    },
    {
      "cell_type": "markdown",
      "source": [
        "Pada kode diatas berfungsi untuk melakukan sebuah pengkondisian untuk memvalidasi inputan dari user yaitu terdapat If dan else. Jika tidak ada plainText, maka akan muncul output PlainText Kosong !, jika tidak ada kunci, maka akan muncul output PlainText Kosong !. Kemudian didalam else, terdapat suatu pernyataan yaitu plaintext_size = panjang dari plainText yang telah di inputkan, kunci_size = panjang dsri kunci yang telah di inputkan, maka size = plaintext_size / kunci_size untuk menampilkan panjang dari pembagian antara plainText dengan kunci, untuk menampilkan output dari size."
      ],
      "metadata": {
        "id": "4Nk8LSpha5Ss"
      }
    },
    {
      "cell_type": "code",
      "execution_count": 6,
      "metadata": {
        "id": "aUUF53cdXFyG"
      },
      "outputs": [],
      "source": [
        "import math #library math\n",
        "\n",
        "def checkDecimal(plainText, key): #membuat fungsi checkDecimal dengan parameter plainText dan key\n",
        "    rows = 0 #membuat variabel rows bernilai 1\n",
        "    if(len(plainText) % len(key) != 0): #jika panjang plainText di modulus dengan panjang kunci tidak sama dengan 0\n",
        "        rows = math.ceil(len(plainText) / len(key)+1) #maka baris = hasil pembagian antara panjang plainText dengan panjang kunci dibulatkan keatas\n",
        "    else: #jika baris = panjang plainText dibagi panjang kunci ditambah 1\n",
        "        rows = len(plainText) / len(key) + 1\n",
        "    return rows #maka baris akan dikembalikan"
      ]
    },
    {
      "cell_type": "markdown",
      "source": [
        "Pada kode diatas terdapat library math untuk menjalankan fungsi math untuk membulatkan bilangan keatas. lalu pada kode diatas terdapat variabel checkDecimal dengan parameter plainText dan juga key. kemudian baris dibuat sama dengan 0. Kemudian terdapat pengkondisian yaitu jika panjang plainText di modulus dengan panjang kunci tidak sama dengan 0 maka baris = hasil pembagian antara panjang plainText dengan panjang kunci dibulatkan keatas. lalu jika panjang plainText di modulus dengan panjang kunci sama dengan 0 maka baris = panjang plainText dibagi panjang kunci ditambah 1. Kemudian baris akan direturn atau dikembalikan lagi untuk dilakukan pengulangan."
      ],
      "metadata": {
        "id": "J5sA7GOEdGji"
      }
    },
    {
      "cell_type": "code",
      "execution_count": 7,
      "metadata": {
        "colab": {
          "base_uri": "https://localhost:8080/"
        },
        "id": "2yjT1IXdXFyG",
        "outputId": "e451b2b2-228a-4190-dac5-d56d7b34d40f"
      },
      "outputs": [
        {
          "output_type": "execute_result",
          "data": {
            "text/plain": [
              "5"
            ]
          },
          "metadata": {},
          "execution_count": 7
        }
      ],
      "source": [
        "rows = checkDecimal(plainText, key) #variable baris = checkDecimal dengan parameter plainText dan kunci\n",
        "rows #memanggil variable baris untuk menampilkan output baris"
      ]
    },
    {
      "cell_type": "markdown",
      "source": [
        "Pada kode diatas berfungsi untuk menampilkan output baris yang akan digunakan untuk enkripsi, yang mana terdapat variabel baris = checkDecimal dengan parameter plainText dan kunci. Kemudian kita panggil baris untuk menampilkan output jumlah baris"
      ],
      "metadata": {
        "id": "dVd-ZxwsfY47"
      }
    },
    {
      "cell_type": "code",
      "execution_count": 8,
      "metadata": {
        "colab": {
          "base_uri": "https://localhost:8080/",
          "height": 35
        },
        "id": "N1x0J7MDXFyG",
        "outputId": "57822d7f-e70c-48c1-db0f-6ab98e5c7cf4"
      },
      "outputs": [
        {
          "output_type": "execute_result",
          "data": {
            "text/plain": [
              "'ThisPlaintext'"
            ],
            "application/vnd.google.colaboratory.intrinsic+json": {
              "type": "string"
            }
          },
          "metadata": {},
          "execution_count": 8
        }
      ],
      "source": [
        "plainText = plainText.replace(\" \",\"\") #untuk memberikan spasi pada plainText\n",
        "plainText # Menampilkan nilai plaintext"
      ]
    },
    {
      "cell_type": "code",
      "source": [
        "unique_keyword = sorted(set(key)) #variabel unique_keyword untuk menyimpan nilai urut dari kunci, dan menghapus nilai duplikat dari kunci\n",
        "unique_keyword #untuk menampilkan output dari variabel unique_keyword"
      ],
      "metadata": {
        "colab": {
          "base_uri": "https://localhost:8080/"
        },
        "id": "ij_ZDhZ6NFvO",
        "outputId": "f9a8d030-24e7-434a-a222-3263e568feaf"
      },
      "execution_count": 9,
      "outputs": [
        {
          "output_type": "execute_result",
          "data": {
            "text/plain": [
              "['n', 'o', 's', 'y']"
            ]
          },
          "metadata": {},
          "execution_count": 9
        }
      ]
    },
    {
      "cell_type": "markdown",
      "source": [
        "Pada kode diatas terdapat replace yang mana berfungsi untuk memberikan spasi pada plainText yang diinputkan. Lalu terdapat variabel unique_keyword untuk menampilkan 1 kali pada kunci yang duplikat"
      ],
      "metadata": {
        "id": "q3Z0K97FitYl"
      }
    },
    {
      "cell_type": "code",
      "execution_count": 10,
      "metadata": {
        "colab": {
          "base_uri": "https://localhost:8080/"
        },
        "id": "IuZz8qNLXFyH",
        "outputId": "9cdbd003-efb5-4d47-ddf8-d9c23de494f2"
      },
      "outputs": [
        {
          "output_type": "execute_result",
          "data": {
            "text/plain": [
              "{'n': [], 'o': [], 's': [], 'y': []}"
            ]
          },
          "metadata": {},
          "execution_count": 10
        }
      ],
      "source": [
        "keyword_order = {char: [] for char in unique_keyword} # membuat tipe data dictionary, dan menambahkan sebuah list di value\n",
        "keyword_order #menampilkan output dari variabel keyword_order"
      ]
    },
    {
      "cell_type": "markdown",
      "source": [
        "Pada kode diatas terdapat keyword_order yang berfungsi sebagai variabel penampung untuk memberikan value atau nilai kepada unique_keyword agar nantinya dapat digunakan untuk mengurutkan kata kunci."
      ],
      "metadata": {
        "id": "xQAB1SgBjmUP"
      }
    },
    {
      "cell_type": "code",
      "execution_count": 11,
      "metadata": {
        "colab": {
          "base_uri": "https://localhost:8080/"
        },
        "id": "E2AVs9YFXFyH",
        "outputId": "578ce525-2ea5-4c8a-8362-ff8527ae9672"
      },
      "outputs": [
        {
          "output_type": "execute_result",
          "data": {
            "text/plain": [
              "['s', 'o', 'n', 'y']"
            ]
          },
          "metadata": {},
          "execution_count": 11
        }
      ],
      "source": [
        "original_keyword_order = [char for char in key] # tipe data array\n",
        "original_keyword_order #menampilkan output dari variabel original_keyword_order"
      ]
    },
    {
      "cell_type": "markdown",
      "source": [
        "Pada kode diatas terdapat original_keyword_order untuk menampung kata kunci yang diinputkan, yang nantinya original_keyword_order dipanggil untuk menampilkan output dari kata kunci yang telah diinputkan."
      ],
      "metadata": {
        "id": "fxJbhp-YqLcH"
      }
    },
    {
      "cell_type": "code",
      "execution_count": 13,
      "metadata": {
        "colab": {
          "base_uri": "https://localhost:8080/"
        },
        "id": "wZsCKRu1XFyH",
        "outputId": "48c1134d-7914-4800-a307-18a56ca49ac6"
      },
      "outputs": [
        {
          "output_type": "execute_result",
          "data": {
            "text/plain": [
              "{'n': [1], 'o': [2], 's': [3], 'y': [4]}"
            ]
          },
          "metadata": {},
          "execution_count": 13
        }
      ],
      "source": [
        "for col, char in enumerate(unique_keyword): # Pengulangan melalui karakter unik dalam unique_keyword\n",
        "    keyword_order[char].extend([col + 1] * key.count(char)) # Menambahkan nilai value ke dalam dictionary keyword_order dari setiap hitungan karakter yang muncul\n",
        "keyword_order #menampilkan output keyword_order"
      ]
    },
    {
      "cell_type": "markdown",
      "source": [
        "Pada kode diatas berfungsi untuk menambahlan nilai value pada keyword_order dan nilai valuenya didapat dari banyaknya karakter yang muncul pada kunci."
      ],
      "metadata": {
        "id": "TYYAJ7iMq0ko"
      }
    },
    {
      "cell_type": "code",
      "execution_count": 14,
      "metadata": {
        "colab": {
          "base_uri": "https://localhost:8080/"
        },
        "id": "8R-JCGjCXFyH",
        "outputId": "ae69500f-7f96-45b8-c15f-398e54333945"
      },
      "outputs": [
        {
          "output_type": "execute_result",
          "data": {
            "text/plain": [
              "['3', '2', '1', '4']"
            ]
          },
          "metadata": {},
          "execution_count": 14
        }
      ],
      "source": [
        "key_index = [] # Membuat list baru untuk menampung nilai value dari keyword_order\n",
        "for char in key: # Melakukan iterasi untuk setiap karakter dalam variabel 'kunci'.\n",
        "  orders = ', '.join(map(str, keyword_order[char])) # Mengubah data list integer menjadi bentuk string dan menggabungkan elemen-elemen list tersebut dengan tanda koma dan spasi dan mengambil nilai value dari setiap karakter pada keyword_order\n",
        "  key_index.append(orders) # menambahkan nilai orders ke dalam list key_index\n",
        "key_index # menampilkan nilai key_index"
      ]
    },
    {
      "cell_type": "markdown",
      "source": [
        "Pada kode diatas berfungsi untuk mengambil nilai value dari setiap karakter keyword_order dan ditambahkan ke dalam list key_index"
      ],
      "metadata": {
        "id": "PkjdptPLrzbk"
      }
    },
    {
      "cell_type": "code",
      "execution_count": 15,
      "metadata": {
        "colab": {
          "base_uri": "https://localhost:8080/"
        },
        "id": "e1Uly81fXFyH",
        "outputId": "d4273c2c-f7dd-4304-e810-329352c10a54"
      },
      "outputs": [
        {
          "output_type": "execute_result",
          "data": {
            "text/plain": [
              "['3', '2', '1', '4']"
            ]
          },
          "metadata": {},
          "execution_count": 15
        }
      ],
      "source": [
        "ci = [] # Membuat list baru untuk menyimpan nilai dari keyword_order\n",
        "for i in range(len(key)): # Melakukan iterasi dari 0 hingga panjang variabel 'kunci'.\n",
        "  for j in range(1):  # Melakukan iterasi hanya satu kali (j = 0) untuk setiap nilai i.\n",
        "    ci.append(key_index[i][j]) # menambahkan nilai Key key_index dalam list ci\n",
        "ci #menampilkan nilai ci"
      ]
    },
    {
      "cell_type": "markdown",
      "source": [
        "Pada kode diatas berfungsi hanya mengambil 1 nilai saja pada key_index"
      ],
      "metadata": {
        "id": "NvpFL-t2uqp4"
      }
    },
    {
      "cell_type": "code",
      "source": [
        "check = [] # Membuat list check untuk menyimpan kunci dan nomor urut kunci\n",
        "check.append(original_keyword_order) # Menambahkan list original_keyword_order kedalam check\n",
        "check.append(ci) # Menambahkan list ci kedalam check\n",
        "check # Menampilkan nilai check"
      ],
      "metadata": {
        "colab": {
          "base_uri": "https://localhost:8080/"
        },
        "id": "yAry7mqbaKc_",
        "outputId": "1838acb7-5590-453e-a581-60f11e1f2673"
      },
      "execution_count": 16,
      "outputs": [
        {
          "output_type": "execute_result",
          "data": {
            "text/plain": [
              "[['s', 'o', 'n', 'y'], ['3', '2', '1', '4']]"
            ]
          },
          "metadata": {},
          "execution_count": 16
        }
      ]
    },
    {
      "cell_type": "code",
      "execution_count": 17,
      "metadata": {
        "colab": {
          "base_uri": "https://localhost:8080/"
        },
        "id": "suqncShyXFyH",
        "outputId": "1c471995-6257-441f-9d40-e7543d151f9f"
      },
      "outputs": [
        {
          "output_type": "execute_result",
          "data": {
            "text/plain": [
              "[['', '', '', ''],\n",
              " ['', '', '', ''],\n",
              " ['', '', '', ''],\n",
              " ['', '', '', ''],\n",
              " ['', '', '', '']]"
            ]
          },
          "metadata": {},
          "execution_count": 17
        }
      ],
      "source": [
        "matrix = [['' for i in range(len(key))] for j in range(rows)] #Membuat sebuah 2d array list dengan nilai '' dan panjang dari array list dari kunci dan nilai rows\n",
        "matrix #menampilkan output dari matrix"
      ]
    },
    {
      "cell_type": "markdown",
      "source": [
        "Membuat sebuah 2d array list dengan nilai '' dan panjang dari array list dari kunci dan nilai rows"
      ],
      "metadata": {
        "id": "Sctwq4uqtmgW"
      }
    },
    {
      "cell_type": "code",
      "execution_count": 18,
      "metadata": {
        "colab": {
          "base_uri": "https://localhost:8080/"
        },
        "id": "LovuC5MWXFyI",
        "outputId": "9f09c9bd-6a05-4e01-b041-dd937161b426"
      },
      "outputs": [
        {
          "output_type": "execute_result",
          "data": {
            "text/plain": [
              "[['3', '2', '1', '4'],\n",
              " ['T', 'h', 'i', 's'],\n",
              " ['P', 'l', 'a', 'i'],\n",
              " ['n', 't', 'e', 'x'],\n",
              " ['t', '#', '#', '#']]"
            ]
          },
          "metadata": {},
          "execution_count": 18
        }
      ],
      "source": [
        "index = 0 # membuat sebuah variabel int index bernilai 0 dan digunakan untuk iterasi pada for dibawah\n",
        "for i in range(rows): # Melakukan iterasi sebanyak 'rows' kali untuk membentuk baris matriks.\n",
        "  for j in range(len(key)): # Melakukan iterasi sebanyak karakter dalam 'kunci' untuk membentuk kolom matriks.\n",
        "    if(i == 0): # Jika ini adalah baris pertama dalam matriks:\n",
        "      matrix[i][j] = ci[j] # Mengisi elemen matriks dengan nilai dari list 'ci'.\n",
        "    else: # Jika ini bukan baris pertama dalam matriks\n",
        "      if(index < len(plainText)): # Jika 'index' kurang dari panjang plaintext:\n",
        "        matrix[i][j] = plainText[index] # Mengisi elemen matriks dengan karakter dari 'plaintext'.\n",
        "        index+=1 # Nilai index bertambah 1\n",
        "      else: # Jika 'index' sudah mencapai akhir dari 'plaintext':\n",
        "        matrix[i][j] = \"#\" # Mengisi elemen matriks dengan #.\n",
        "matrix #menampilkan nilai matrix"
      ]
    },
    {
      "cell_type": "markdown",
      "source": [
        "Pada kode diatas berfungsi untuk mengurutkan plaintext berdasarkan sesuai aturan algoritma myzskowski"
      ],
      "metadata": {
        "id": "LWHr7FgMuqY1"
      }
    },
    {
      "cell_type": "code",
      "execution_count": 19,
      "metadata": {
        "colab": {
          "base_uri": "https://localhost:8080/"
        },
        "id": "eHX5aunZXFyI",
        "outputId": "c41e63d0-e932-4874-b0a4-4ce23d2f9f70"
      },
      "outputs": [
        {
          "output_type": "execute_result",
          "data": {
            "text/plain": [
              "['1', '2', '3', '4']"
            ]
          },
          "metadata": {},
          "execution_count": 19
        }
      ],
      "source": [
        "key_sort = sorted(set(ci)) #Mengurutkan Set Menjadi List\n",
        "key_sort #menampilkan ouput dari key_sort"
      ]
    },
    {
      "cell_type": "markdown",
      "source": [
        "Pada kode diatas kata kunci diurutkan"
      ],
      "metadata": {
        "id": "IvczArqfu2Z-"
      }
    },
    {
      "cell_type": "markdown",
      "metadata": {
        "id": "Q4TKoLdgXFyI"
      },
      "source": [
        "**ENCRYPT TEXT**"
      ]
    },
    {
      "cell_type": "code",
      "execution_count": 31,
      "metadata": {
        "colab": {
          "base_uri": "https://localhost:8080/"
        },
        "id": "uoVC-qGqXFyI",
        "outputId": "e19980c0-fc88-4e75-b6d3-d909d3716638"
      },
      "outputs": [
        {
          "output_type": "execute_result",
          "data": {
            "text/plain": [
              "['i',\n",
              " 'a',\n",
              " 'e',\n",
              " '#',\n",
              " 'h',\n",
              " 'l',\n",
              " 't',\n",
              " '#',\n",
              " 'T',\n",
              " 'P',\n",
              " 'n',\n",
              " 't',\n",
              " 's',\n",
              " 'i',\n",
              " 'x',\n",
              " '#']"
            ]
          },
          "metadata": {},
          "execution_count": 31
        }
      ],
      "source": [
        "cipher = [] # Membuat list cipher untuk menyimpan nilai chipernya\n",
        "index = 0  # membuat sebuah variabel int index bernilai 0 dan digunakan untuk iterasi pada for dibawah\n",
        "for i in range(len(key_sort)): # Melakukan iterasi sebanyak panjang key_sort\n",
        "  for j in range(1,rows): # Iterasi tiap baris dimulai dari baris kedua dimulai dari index 1\n",
        "    for k in range(len(key)):  # Iterasi kolom sebanyak panjang kunci\n",
        "      if(matrix[0][k] == key_sort[i]): # Jika karakter dalam baris pertama matriks sama dengan karakter dalam 'key_sort'.\n",
        "        if(matrix[j][k] == \" \"): # Jika elemen matriks pada posisi ini adalah spasi.\n",
        "          cipher.append('') # Menambahkan nilai '' kedalam list chiper\n",
        "        else:\n",
        "          cipher.append(matrix[j][k]) # Menambahkan karakter dari setiap iterasi matriks ke dalam 'cipher'.\n",
        "cipher #Menampilkan hasil chiper"
      ]
    },
    {
      "cell_type": "markdown",
      "source": [
        "Pada kode diatas digunakan untuk mengenkripsi berdasarkan kunci_sort, dimana iterasi diatas akan mengambil nilai matrix berdasarkan dari kunci yang terkecil, sehingga pengambilan chiper dimulai dari 1, 2, 3, 4, 5"
      ],
      "metadata": {
        "id": "wTwX6M2zve2o"
      }
    },
    {
      "cell_type": "code",
      "execution_count": 32,
      "metadata": {
        "colab": {
          "base_uri": "https://localhost:8080/",
          "height": 35
        },
        "id": "Jk7S4H77XFyI",
        "outputId": "02c09bca-57be-4131-a26a-3deb90689fbc"
      },
      "outputs": [
        {
          "output_type": "execute_result",
          "data": {
            "text/plain": [
              "'iae#hlt#TPntsix#'"
            ],
            "application/vnd.google.colaboratory.intrinsic+json": {
              "type": "string"
            }
          },
          "metadata": {},
          "execution_count": 32
        }
      ],
      "source": [
        "cipher_text = ''.join(cipher) #Membuat string tunggal dengan menggabungkan elemen-elemen dalam list 'cipher'\n",
        "cipher_text #Menampilkan output dari cipher_text"
      ]
    },
    {
      "cell_type": "markdown",
      "source": [
        "Pada kode diatas digunakan untuk menampilkan hasil enkripsi"
      ],
      "metadata": {
        "id": "IcjfdmnavyXy"
      }
    },
    {
      "cell_type": "code",
      "execution_count": 33,
      "metadata": {
        "id": "eHNsR4umXFyI",
        "outputId": "59f7ffb3-40da-46f3-d277-eacc5a325ba3",
        "colab": {
          "base_uri": "https://localhost:8080/"
        }
      },
      "outputs": [
        {
          "output_type": "execute_result",
          "data": {
            "text/plain": [
              "['iae#h', 'lt#TP', 'ntsix', '#']"
            ]
          },
          "metadata": {},
          "execution_count": 33
        }
      ],
      "source": [
        "block_size = 5 # Menentukan ukuran blok\n",
        "blocks = [cipher_text[i:i+block_size] for i in range(0, len(cipher_text), block_size)] # Membuat blok-blok dari string 'cipher_text' dengan ukuran tertentu\n",
        "blocks #Menampilkan output blocks"
      ]
    },
    {
      "cell_type": "code",
      "execution_count": 34,
      "metadata": {
        "id": "YIeVwMYKXFyI",
        "outputId": "5a36de0a-cd90-4e18-b46b-ea31407103af",
        "colab": {
          "base_uri": "https://localhost:8080/",
          "height": 35
        }
      },
      "outputs": [
        {
          "output_type": "execute_result",
          "data": {
            "text/plain": [
              "'iaeh ltTP ntsix '"
            ],
            "application/vnd.google.colaboratory.intrinsic+json": {
              "type": "string"
            }
          },
          "metadata": {},
          "execution_count": 34
        }
      ],
      "source": [
        "blocks = ' '.join(blocks) # Menggabungkan elemen-elemen dalam list 'blocks' menjadi satu string dengan spasi sebagai pemisah\n",
        "result = blocks.replace(\"#\", \"\") # Menghapus karakter '#' dari string 'blocks' dan menyimpannya dalam variabel 'result'\n",
        "result #Menampilkan output result"
      ]
    },
    {
      "cell_type": "markdown",
      "metadata": {
        "id": "9_uKkfHwXFyJ"
      },
      "source": [
        "**DECRYPT TEXT**"
      ]
    },
    {
      "cell_type": "code",
      "execution_count": 35,
      "metadata": {
        "id": "_Y8POEBlXFyJ",
        "outputId": "5a4ca09c-d3bc-47e5-be11-6db3b1dc24e0",
        "colab": {
          "base_uri": "https://localhost:8080/"
        }
      },
      "outputs": [
        {
          "output_type": "execute_result",
          "data": {
            "text/plain": [
              "[['3', '2', '1', '4'],\n",
              " ['', '', '', ''],\n",
              " ['', '', '', ''],\n",
              " ['', '', '', ''],\n",
              " ['', '', '', '']]"
            ]
          },
          "metadata": {},
          "execution_count": 35
        }
      ],
      "source": [
        "# Menginisialisasi matriks dekripsi\n",
        "matrix_cipher = [['' for i in range(len(key))] for j in range(rows)] #Membuat sebuah 2d array list dengan nilai '' dan panjang dari array list dari kunci dan nilai rows\n",
        "for i in range(rows): # iterasi baris sebanyak rows\n",
        "  for j in range(len(key)): # iterasi kolom sebanyak panjang kunci\n",
        "    if(i == 0): #jika nilai i sama dengan 0\n",
        "      matrix_cipher[i][j] = ci[j] # baris pertama diisi dengan kunci\n",
        "matrix_cipher #Menampilkan matrix"
      ]
    },
    {
      "cell_type": "markdown",
      "source": [
        "Membuat sebuah 2d array list dengan nilai '' dan panjang dari array list dari kunci dan nilai rows"
      ],
      "metadata": {
        "id": "gSyEeg-lq1M8"
      }
    },
    {
      "cell_type": "code",
      "execution_count": 36,
      "metadata": {
        "id": "WdfrNx13XFyJ",
        "outputId": "7a31bc83-1112-436f-dd74-e364ba32d16e",
        "colab": {
          "base_uri": "https://localhost:8080/"
        }
      },
      "outputs": [
        {
          "output_type": "execute_result",
          "data": {
            "text/plain": [
              "[['3', '2', '1', '4'],\n",
              " ['T', 'h', 'i', 's'],\n",
              " ['P', 'l', 'a', 'i'],\n",
              " ['n', 't', 'e', 'x'],\n",
              " ['t', '#', '#', '#']]"
            ]
          },
          "metadata": {},
          "execution_count": 36
        }
      ],
      "source": [
        "# Mengisi matriks dengan blok-blok teks enkripsi\n",
        "indx = 0  # membuat sebuah variabel int index bernilai 0 dan digunakan untuk iterasi pada for dibawah\n",
        "for i in range(len(key_sort)): # iterasi baris sebanyak panjang key_sort\n",
        "  for j in range(1,rows): # iterasi baris sebanyak rows dan dimulai dari index 1\n",
        "    for k in range(len(key)): # iterasi kolom sebanyak panjang key\n",
        "      if(matrix_cipher[0][k] == key_sort[i]): # jika nilai matrix baris pertama dan nilai kolom sama dengan nilai key_sort\n",
        "        if(indx < len(cipher_text)): # jika nilai indx kurang dari panjang cipher_text\n",
        "          matrix_cipher[j][k] = cipher_text[indx] # maka nilai setiap iterasi matrix_cipher diubah menjadi nilai dari iterasi setiap chiper_text\n",
        "          indx+=1 #nilai indx ditambah 1\n",
        "matrix_cipher #menampilkan nilai matrix_chiper"
      ]
    },
    {
      "cell_type": "markdown",
      "source": [
        "Code diatas digunakan untuk mengubah nilai matrix_cipher dengan nilai chiper, dan mengubah sesuai urutan kunci_sortnya"
      ],
      "metadata": {
        "id": "rZudAG1pq4mn"
      }
    },
    {
      "cell_type": "code",
      "execution_count": 37,
      "metadata": {
        "id": "OFAa5YbTXFyJ",
        "outputId": "a9247492-ce46-4672-d1f3-dc285bd28bb9",
        "colab": {
          "base_uri": "https://localhost:8080/"
        }
      },
      "outputs": [
        {
          "output_type": "execute_result",
          "data": {
            "text/plain": [
              "['T',\n",
              " 'h',\n",
              " 'i',\n",
              " 's',\n",
              " 'P',\n",
              " 'l',\n",
              " 'a',\n",
              " 'i',\n",
              " 'n',\n",
              " 't',\n",
              " 'e',\n",
              " 'x',\n",
              " 't',\n",
              " '#',\n",
              " '#',\n",
              " '#']"
            ]
          },
          "metadata": {},
          "execution_count": 37
        }
      ],
      "source": [
        "# Mendekripsi teks\n",
        "decrypted_text = [] #membuat list decrypted_text untuk menampung hasil dekripsi\n",
        "for i in range(1, rows): # iterasi baris sebanyak rows dan dimulai dari index 1\n",
        "    for j in range(len(key)): # iterasi kolom sebanyak panjang kunci\n",
        "        decrypted_text.append(matrix_cipher[i][j]) # menambahkan nilai setiap iterasi pada matrix_cipher ke dalam list decrypted_text\n",
        "decrypted_text # menampilkan nilai decrypted_text"
      ]
    },
    {
      "cell_type": "markdown",
      "source": [
        "menambahkan nilai matrix_chiper ke dalam list decrypt"
      ],
      "metadata": {
        "id": "xKZQM3gSsAym"
      }
    },
    {
      "cell_type": "code",
      "execution_count": 38,
      "metadata": {
        "id": "9NuweG1FXFyJ",
        "outputId": "e09ef172-d1b8-45ea-8dcc-eed23e5ee6d7",
        "colab": {
          "base_uri": "https://localhost:8080/",
          "height": 35
        }
      },
      "outputs": [
        {
          "output_type": "execute_result",
          "data": {
            "text/plain": [
              "'ThisPlaintext'"
            ],
            "application/vnd.google.colaboratory.intrinsic+json": {
              "type": "string"
            }
          },
          "metadata": {},
          "execution_count": 38
        }
      ],
      "source": [
        "result = \"\".join(decrypted_text) # Menggabungkan elemen-elemen dalam list 'decrypted_text' menjadi satu string tanpa pemisah\n",
        "decrypted_sentence = result.replace(\"#\", \"\") # Menghapus karakter '#' dari string 'result' dan menyimpannya dalam variabel 'decrypted_sentence'\n",
        "decrypted_sentence # Menampilkan decrypted_sentence"
      ]
    },
    {
      "cell_type": "code",
      "execution_count": 42,
      "metadata": {
        "id": "A09RtdLaXFyJ",
        "colab": {
          "base_uri": "https://localhost:8080/"
        },
        "outputId": "61a6f0a8-4577-4c7d-c086-afb9838c68d3"
      },
      "outputs": [
        {
          "output_type": "execute_result",
          "data": {
            "text/plain": [
              "['This', 'Plaintext']"
            ]
          },
          "metadata": {},
          "execution_count": 42
        }
      ],
      "source": [
        "# Memisahkan kata-kata berdasarkan huruf kapital\n",
        "words = [] # array kosong dijadikan sebagai wadah untuk menampung data tiap iterasi\n",
        "current_word = '' # Membuat string kosong untuk menyimpan kata saat ini\n",
        "for char in decrypted_sentence: # Melakukan iterasi pada setiap karakter dalam variabel result\n",
        "    if char.isupper() and current_word: # Jika karakter adalah huruf kapital dan current_word tidak kosong\n",
        "        words.append(current_word) # tambahkan current_word ke dalam array words\n",
        "        current_word = char # Mulai kata baru dengan huruf kapital yang ditemukan\n",
        "    else:\n",
        "        current_word += char # Jika tidak memenuhi kondisi pertama, tambahkan karakter tersebut ke dalam current_word\n",
        "if current_word:\n",
        "    words.append(current_word) # Menambahkan kata terakhir ke dalam array words jika masih ada kata yang tersisa dalam current_word\n",
        "words # Menampilkan value words"
      ]
    },
    {
      "cell_type": "code",
      "execution_count": 43,
      "metadata": {
        "id": "xSP4bj6yXFyJ",
        "outputId": "0815d5e7-d69c-42a2-d8a2-ceb1bfade1f7",
        "colab": {
          "base_uri": "https://localhost:8080/",
          "height": 35
        }
      },
      "outputs": [
        {
          "output_type": "execute_result",
          "data": {
            "text/plain": [
              "'This Plaintext'"
            ],
            "application/vnd.google.colaboratory.intrinsic+json": {
              "type": "string"
            }
          },
          "metadata": {},
          "execution_count": 43
        }
      ],
      "source": [
        "# Menggabungkan karakter menjadi kalimat dengan spasi\n",
        "decrypted_text_with_spaces = ' '.join(words)\n",
        "decrypted_text_with_spaces"
      ]
    }
  ],
  "metadata": {
    "kernelspec": {
      "display_name": "Python 3",
      "language": "python",
      "name": "python3"
    },
    "language_info": {
      "codemirror_mode": {
        "name": "ipython",
        "version": 3
      },
      "file_extension": ".py",
      "mimetype": "text/x-python",
      "name": "python",
      "nbconvert_exporter": "python",
      "pygments_lexer": "ipython3",
      "version": "3.11.6"
    },
    "colab": {
      "provenance": []
    }
  },
  "nbformat": 4,
  "nbformat_minor": 0
}